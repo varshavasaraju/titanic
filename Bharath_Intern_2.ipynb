{
  "cells": [
    {
      "cell_type": "code",
      "execution_count": null,
      "id": "9c40f45a",
      "metadata": {
        "id": "9c40f45a",
        "outputId": "9d197e30-209a-4adf-a2e3-ac964edcd24f"
      },
      "outputs": [
        {
          "name": "stdout",
          "output_type": "stream",
          "text": [
            "Accuracy: 0.7696629213483146\n",
            "Classification Report:\n",
            "              precision    recall  f1-score   support\n",
            "\n",
            "           0       0.82      0.80      0.81       111\n",
            "           1       0.69      0.72      0.70        67\n",
            "\n",
            "    accuracy                           0.77       178\n",
            "   macro avg       0.75      0.76      0.76       178\n",
            "weighted avg       0.77      0.77      0.77       178\n",
            "\n",
            "Confusion Matrix:\n",
            "[[89 22]\n",
            " [19 48]]\n",
            "Prediction for person 1: Did not survive\n",
            "Prediction for person 2: Survived\n"
          ]
        },
        {
          "name": "stderr",
          "output_type": "stream",
          "text": [
            "C:\\Users\\Dell\\anaconda3\\Lib\\site-packages\\sklearn\\base.py:464: UserWarning: X does not have valid feature names, but RandomForestClassifier was fitted with feature names\n",
            "  warnings.warn(\n",
            "C:\\Users\\Dell\\anaconda3\\Lib\\site-packages\\sklearn\\base.py:464: UserWarning: X does not have valid feature names, but RandomForestClassifier was fitted with feature names\n",
            "  warnings.warn(\n"
          ]
        }
      ],
      "source": [
        "import pandas as pd\n",
        "from sklearn.model_selection import train_test_split\n",
        "from sklearn.ensemble import RandomForestClassifier\n",
        "from sklearn.metrics import accuracy_score, classification_report, confusion_matrix\n",
        "from sklearn.preprocessing import LabelEncoder\n",
        "\n",
        "# Loading the dataset\n",
        "titanic_data = pd.read_csv('titanic.csv')\n",
        "\n",
        "# Preprocessing the data\n",
        "titanic_data.dropna(inplace=True)  # Dropping rows with missing values for simplicity\n",
        "label_encoder = LabelEncoder()\n",
        "titanic_data['Sex'] = label_encoder.fit_transform(titanic_data['Sex'])\n",
        "\n",
        "# Selecting features and target variable\n",
        "X = titanic_data[['Pclass', 'Sex', 'Age', 'Siblings/Spouses Aboard', 'Parents/Children Aboard', 'Fare']]\n",
        "y = titanic_data['Survived']\n",
        "\n",
        "# Splitting the data into training and testing sets\n",
        "X_train, X_test, y_train, y_test = train_test_split(X, y, test_size=0.2, random_state=42)\n",
        "\n",
        "# Training a random forest classifier\n",
        "clf = RandomForestClassifier()\n",
        "clf.fit(X_train, y_train)\n",
        "\n",
        "# Making predictions\n",
        "y_pred = clf.predict(X_test)\n",
        "\n",
        "# Evaluating the model\n",
        "print(\"Accuracy:\", accuracy_score(y_test, y_pred))\n",
        "print(\"Classification Report:\")\n",
        "print(classification_report(y_test, y_pred))\n",
        "print(\"Confusion Matrix:\")\n",
        "print(confusion_matrix(y_test, y_pred))\n",
        "\n",
        "# Prediction for specific cases\n",
        "person1 = [[3, 1, 22, 1, 0, 7.25]]  # Example: [Pclass, Sex, Age, Siblings/Spouses Aboard, Parents/Children Aboard, Fare]\n",
        "person2 = [[1, 0, 38, 1, 0, 71.2833]]\n",
        "\n",
        "print(\"Prediction for person 1:\", \"Survived\" if clf.predict(person1)[0] == 1 else \"Did not survive\")\n",
        "print(\"Prediction for person 2:\", \"Survived\" if clf.predict(person2)[0] == 1 else \"Did not survive\")\n"
      ]
    },
    {
      "cell_type": "code",
      "execution_count": null,
      "id": "f153c2e4",
      "metadata": {
        "id": "f153c2e4"
      },
      "outputs": [],
      "source": []
    }
  ],
  "metadata": {
    "kernelspec": {
      "display_name": "Python 3 (ipykernel)",
      "language": "python",
      "name": "python3"
    },
    "language_info": {
      "codemirror_mode": {
        "name": "ipython",
        "version": 3
      },
      "file_extension": ".py",
      "mimetype": "text/x-python",
      "name": "python",
      "nbconvert_exporter": "python",
      "pygments_lexer": "ipython3",
      "version": "3.11.5"
    },
    "colab": {
      "provenance": []
    }
  },
  "nbformat": 4,
  "nbformat_minor": 5
}